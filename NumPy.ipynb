{
 "cells": [
  {
   "cell_type": "code",
   "execution_count": 3,
   "id": "3d61c580",
   "metadata": {},
   "outputs": [
    {
     "name": "stdout",
     "output_type": "stream",
     "text": [
      "1\n",
      "2\n",
      "3\n"
     ]
    }
   ],
   "source": [
    "#creating array\n",
    "import numpy as np\n",
    "a=np.array([10,20,30,40])\n",
    "b=np.array([[10,20],[30,40]])\n",
    "c=np.array([[[10,20],[30,40],[50,60]]])\n",
    "print(a.ndim)\n",
    "print(b.ndim)\n",
    "print(c.ndim)"
   ]
  },
  {
   "cell_type": "code",
   "execution_count": 7,
   "id": "f141230c",
   "metadata": {},
   "outputs": [
    {
     "name": "stdout",
     "output_type": "stream",
     "text": [
      "7\n",
      "8\n"
     ]
    }
   ],
   "source": [
    "d=np.array([10,20,30,40],ndmin=7)\n",
    "e=np.array([2,3,4,5,6,7],ndmin=8)\n",
    "print(d.ndim)\n",
    "print(e.ndim)"
   ]
  },
  {
   "cell_type": "code",
   "execution_count": 8,
   "id": "b03bc35d",
   "metadata": {},
   "outputs": [
    {
     "name": "stdout",
     "output_type": "stream",
     "text": [
      "[[[[[1 2 3 4]]]]]\n",
      "number of dimensions : 5\n"
     ]
    }
   ],
   "source": [
    "import numpy as np\n",
    "\n",
    "arr = np.array([1, 2, 3, 4], ndmin=5)\n",
    "\n",
    "print(arr)\n",
    "print('number of dimensions :', arr.ndim)"
   ]
  },
  {
   "cell_type": "code",
   "execution_count": 13,
   "id": "4bb824b6",
   "metadata": {},
   "outputs": [
    {
     "name": "stdout",
     "output_type": "stream",
     "text": [
      "[1 3 5 7]\n"
     ]
    }
   ],
   "source": [
    "import numpy as np\n",
    "arr=np.array([1,2,3,4,5,6,7])\n",
    "print(arr[::2])"
   ]
  },
  {
   "cell_type": "code",
   "execution_count": 14,
   "id": "d571881b",
   "metadata": {},
   "outputs": [
    {
     "name": "stdout",
     "output_type": "stream",
     "text": [
      "[[2 3 4]\n",
      " [7 8 9]]\n"
     ]
    }
   ],
   "source": [
    "import numpy as np\n",
    "arr = np.array([[1, 2, 3, 4, 5], [6, 7, 8, 9, 10]])\n",
    "print(arr[0:2, 1:4])\n"
   ]
  },
  {
   "cell_type": "code",
   "execution_count": 18,
   "id": "70f16073",
   "metadata": {},
   "outputs": [
    {
     "name": "stdout",
     "output_type": "stream",
     "text": [
      "[20 25]\n"
     ]
    }
   ],
   "source": [
    "arr = np.array([10, 15, 20, 25, 30, 35, 40])\n",
    "print(arr[2:4])"
   ]
  },
  {
   "cell_type": "code",
   "execution_count": 20,
   "id": "d4540ce2",
   "metadata": {},
   "outputs": [
    {
     "name": "stdout",
     "output_type": "stream",
     "text": [
      "[10 15 20 25]\n"
     ]
    }
   ],
   "source": [
    "rr = np.array([10, 15, 20, 25, 30, 35, 40])\n",
    "\n",
    "print(arr[0:4])"
   ]
  },
  {
   "cell_type": "code",
   "execution_count": 7,
   "id": "82875d44",
   "metadata": {},
   "outputs": [
    {
     "name": "stdout",
     "output_type": "stream",
     "text": [
      "bool\n",
      "float32\n"
     ]
    }
   ],
   "source": [
    "import numpy as np\n",
    "arr1= np.array([1, 2, 3, 4],dtype=bool)\n",
    "arr2=print(arr1.dtype)\n",
    "arr3= np.array([1, 2, 3, 4],dtype='f')\n",
    "arr4=print(arr3.dtype)"
   ]
  },
  {
   "cell_type": "code",
   "execution_count": 8,
   "id": "10c41b6a",
   "metadata": {},
   "outputs": [
    {
     "name": "stdout",
     "output_type": "stream",
     "text": [
      "int32\n",
      "bool\n"
     ]
    }
   ],
   "source": [
    "a1=np.array([1.1,1.2,1.3,1.4],dtype='i')\n",
    "a2=print(a1.dtype)\n",
    "a3=np.array([1.1,1.2,1.3,1.4],dtype=bool)\n",
    "a4=print(a3.dtype)"
   ]
  },
  {
   "cell_type": "code",
   "execution_count": 16,
   "id": "dab28ec5",
   "metadata": {},
   "outputs": [
    {
     "name": "stdout",
     "output_type": "stream",
     "text": [
      "[1 2 3]\n",
      "[1 2 3]\n",
      "[1 2 3]\n"
     ]
    }
   ],
   "source": [
    "import numpy as np\n",
    "x= np.array([1.1, 2.1, 3.1])\n",
    "b = x.astype('i')\n",
    "print(b)\n",
    "z=b.copy()\n",
    "print(z)\n",
    "y=b.view()\n",
    "print(y)"
   ]
  },
  {
   "cell_type": "code",
   "execution_count": 24,
   "id": "1602f22f",
   "metadata": {},
   "outputs": [
    {
     "name": "stdout",
     "output_type": "stream",
     "text": [
      "[ True  True  True  True]\n",
      "[1. 2. 3. 4.]\n",
      "[1 2 3 4]\n",
      "[ True  True  True  True]\n",
      "[ True  True  True  True]\n",
      "[ True  True  True  True]\n"
     ]
    }
   ],
   "source": [
    "x=np.array([1,2,3,4])\n",
    "b=x.astype(bool)\n",
    "print(b)\n",
    "c=x.astype('f')\n",
    "print(c)\n",
    "d=c.astype('i')\n",
    "print(d)\n",
    "e=c.astype(bool)\n",
    "print(e)\n",
    "z=e.copy()\n",
    "print(z)\n",
    "y=e.view()\n",
    "print(y)"
   ]
  },
  {
   "cell_type": "code",
   "execution_count": 1,
   "id": "2e6cee83",
   "metadata": {},
   "outputs": [
    {
     "name": "stdout",
     "output_type": "stream",
     "text": [
      "5.582114294781145\n"
     ]
    }
   ],
   "source": [
    "#finding std deviation\n",
    "import numpy as np\n",
    "x=[78,78,85,85,88,88,90,92,92,96]\n",
    "print(np.std(x))"
   ]
  },
  {
   "cell_type": "code",
   "execution_count": 2,
   "id": "2dc2f282",
   "metadata": {},
   "outputs": [
    {
     "name": "stdout",
     "output_type": "stream",
     "text": [
      "88.0\n"
     ]
    }
   ],
   "source": [
    "import numpy as np\n",
    "x=[78,78,85,85,88,88,90,92,92,96]\n",
    "print(np.median(x))"
   ]
  },
  {
   "cell_type": "code",
   "execution_count": 1,
   "id": "61583aad",
   "metadata": {},
   "outputs": [
    {
     "name": "stdout",
     "output_type": "stream",
     "text": [
      "31.160000000000004\n"
     ]
    }
   ],
   "source": [
    "import numpy as np\n",
    "x=[78,78,85,85,88,88,90,92,92,96]\n",
    "print(np.var(x))"
   ]
  },
  {
   "cell_type": "code",
   "execution_count": 10,
   "id": "467ed67e",
   "metadata": {},
   "outputs": [
    {
     "name": "stdout",
     "output_type": "stream",
     "text": [
      "[]\n"
     ]
    }
   ],
   "source": [
    "#print 12 to 36 within 9 steps\n",
    "#find min() and max() value of the output values\n",
    "#sqrt of the copied values\n",
    "import numpy as np\n",
    "arr=(12,13,14)\n",
    "print(arr[12:36:9])"
   ]
  },
  {
   "cell_type": "code",
   "execution_count": 6,
   "id": "0217a294",
   "metadata": {},
   "outputs": [
    {
     "name": "stdout",
     "output_type": "stream",
     "text": [
      "Minimum value: 12.0\n",
      "Maximum value: 36.0\n"
     ]
    }
   ],
   "source": [
    "min_value = np.min(arr)\n",
    "max_value = np.max(arr)\n",
    "print(\"Minimum value:\", min_value)\n",
    "print(\"Maximum value:\", max_value)"
   ]
  },
  {
   "cell_type": "code",
   "execution_count": 7,
   "id": "e6f21e6b",
   "metadata": {},
   "outputs": [
    {
     "name": "stdout",
     "output_type": "stream",
     "text": [
      "[12. 15. 18. 21. 24. 27. 30. 33. 36.]\n"
     ]
    }
   ],
   "source": [
    "a1=arr.copy()\n",
    "print(a1)"
   ]
  },
  {
   "cell_type": "code",
   "execution_count": 8,
   "id": "19282d6b",
   "metadata": {},
   "outputs": [
    {
     "name": "stdout",
     "output_type": "stream",
     "text": [
      "[3.46410162 3.87298335 4.24264069 4.58257569 4.89897949 5.19615242\n",
      " 5.47722558 5.74456265 6.        ]\n"
     ]
    }
   ],
   "source": [
    "a2=np.sqrt(arr)\n",
    "print(a2)"
   ]
  },
  {
   "cell_type": "code",
   "execution_count": 2,
   "id": "ca355c27",
   "metadata": {},
   "outputs": [
    {
     "name": "stdout",
     "output_type": "stream",
     "text": [
      "[[[[[1 2 3 4]]]]]\n",
      "shape of array : (1, 1, 1, 1, 4)\n"
     ]
    }
   ],
   "source": [
    "#shaping\n",
    "import numpy as np\n",
    "arr = np.array([1, 2, 3, 4], ndmin=5)\n",
    "print(arr)\n",
    "print('shape of array :', arr.shape)"
   ]
  },
  {
   "cell_type": "code",
   "execution_count": 2,
   "id": "655a5add",
   "metadata": {},
   "outputs": [
    {
     "name": "stdout",
     "output_type": "stream",
     "text": [
      "1\n",
      "2\n",
      "3\n",
      "4\n",
      "5\n"
     ]
    }
   ],
   "source": [
    "import numpy as np\n",
    "arr1D=np.array([1, 2, 3, 4, 5])\n",
    "for element in arr1D:\n",
    "    print(element)\n"
   ]
  },
  {
   "cell_type": "code",
   "execution_count": 8,
   "id": "46bd86d8",
   "metadata": {},
   "outputs": [
    {
     "name": "stdout",
     "output_type": "stream",
     "text": [
      "1\n",
      "2\n",
      "3\n",
      "4\n",
      "5\n",
      "6\n",
      "7\n",
      "8\n",
      "9\n"
     ]
    }
   ],
   "source": [
    "import numpy as np\n",
    "arr_2d = np.array([[1, 2, 3],[4, 5, 6],[7, 8, 9]])\n",
    "for i in arr_2d:\n",
    "     for j in i:\n",
    "            print(j)"
   ]
  },
  {
   "cell_type": "code",
   "execution_count": 2,
   "id": "8aec1745",
   "metadata": {},
   "outputs": [
    {
     "name": "stdout",
     "output_type": "stream",
     "text": [
      "1\n",
      "2\n",
      "3\n",
      "4\n",
      "5\n",
      "6\n",
      "7\n",
      "8\n",
      "9\n",
      "10\n",
      "11\n",
      "12\n",
      "13\n",
      "14\n",
      "15\n",
      "16\n",
      "17\n",
      "18\n"
     ]
    }
   ],
   "source": [
    "import numpy as np\n",
    "arr_3d = np.array([[[1, 2, 3],[4, 5, 6],[7, 8, 9]],[[10, 11, 12],[13, 14, 15], [16, 17, 18]]])\n",
    "for i in arr_3d:\n",
    "    for j in i:\n",
    "        for k in j:\n",
    "            print(k)"
   ]
  },
  {
   "cell_type": "code",
   "execution_count": 5,
   "id": "efb3c79f",
   "metadata": {},
   "outputs": [
    {
     "name": "stdout",
     "output_type": "stream",
     "text": [
      "1\n",
      "2\n",
      "3\n",
      "4\n",
      "5\n",
      "6\n",
      "7\n",
      "8\n",
      "9\n",
      "10\n",
      "11\n",
      "12\n",
      "13\n",
      "14\n",
      "15\n",
      "16\n",
      "17\n",
      "18\n"
     ]
    }
   ],
   "source": [
    "import numpy as np\n",
    "arr_3d = np.array([[[1, 2, 3],[4, 5, 6],[7, 8, 9]],[[10, 11, 12],[13, 14, 15], [16, 17, 18]]])\n",
    "for i in np.nditer(arr_3d):\n",
    "    print(i)"
   ]
  },
  {
   "cell_type": "code",
   "execution_count": 6,
   "id": "7c7aec56",
   "metadata": {},
   "outputs": [
    {
     "name": "stdout",
     "output_type": "stream",
     "text": [
      "1\n",
      "3\n",
      "5\n",
      "7\n"
     ]
    }
   ],
   "source": [
    "import numpy as np\n",
    "arr = np.array([[1, 2, 3, 4], [5, 6, 7, 8]])\n",
    "for x in np.nditer(arr[:, ::2]):\n",
    "      print(x)"
   ]
  },
  {
   "cell_type": "code",
   "execution_count": 7,
   "id": "3616ef50",
   "metadata": {},
   "outputs": [
    {
     "name": "stdout",
     "output_type": "stream",
     "text": [
      "(0, 0) 1\n",
      "(0, 1) 2\n",
      "(0, 2) 3\n",
      "(0, 3) 4\n",
      "(1, 0) 5\n",
      "(1, 1) 6\n",
      "(1, 2) 7\n",
      "(1, 3) 8\n"
     ]
    }
   ],
   "source": [
    "import numpy as np\n",
    "arr = np.array([[1, 2, 3, 4], [5, 6, 7, 8]])\n",
    "for abc,x in np.ndenumerate(arr):\n",
    "    print(abc,x)"
   ]
  },
  {
   "cell_type": "code",
   "execution_count": 8,
   "id": "185a4219",
   "metadata": {},
   "outputs": [
    {
     "name": "stdout",
     "output_type": "stream",
     "text": [
      "[[1 2 3]\n",
      " [4 5 6]]\n"
     ]
    }
   ],
   "source": [
    "import numpy as np\n",
    "arr1 = np.array([1, 2, 3])\n",
    "arr2 = np.array([4, 5, 6])\n",
    "\n",
    "arr = np.vstack((arr1, arr2))\n",
    "\n",
    "print(arr)"
   ]
  },
  {
   "cell_type": "code",
   "execution_count": 3,
   "id": "beb65679",
   "metadata": {},
   "outputs": [
    {
     "name": "stdout",
     "output_type": "stream",
     "text": [
      "[array([1, 2, 3, 4]), array([5, 6, 7, 8]), array([ 9, 10, 11]), array([12, 13, 14])]\n"
     ]
    }
   ],
   "source": [
    "import numpy as np\n",
    "arr1=np.array([1,2,3,4,5,6,7,8,9,10,11,12,13,14])\n",
    "newarr=np.array_split(arr1, 4)\n",
    "print(newarr)\n"
   ]
  },
  {
   "cell_type": "code",
   "execution_count": 6,
   "id": "90954c46",
   "metadata": {},
   "outputs": [
    {
     "name": "stdout",
     "output_type": "stream",
     "text": [
      "[array([[1, 2],\n",
      "       [3, 4]]), array([[5, 6],\n",
      "       [7, 8]]), array([[ 9, 10],\n",
      "       [11, 12]])]\n"
     ]
    }
   ],
   "source": [
    "import numpy as np\n",
    "arr1=np.array([[1,2],[3,4],[5,6],[7,8],[9,10],[11,12]])\n",
    "newarr=np.array_split(arr1, 3)\n",
    "print(newarr)\n"
   ]
  },
  {
   "cell_type": "code",
   "execution_count": 8,
   "id": "00342fd3",
   "metadata": {},
   "outputs": [
    {
     "name": "stdout",
     "output_type": "stream",
     "text": [
      "[array([[ 1],\n",
      "       [ 4],\n",
      "       [ 7],\n",
      "       [10],\n",
      "       [13],\n",
      "       [16]]), array([[ 2],\n",
      "       [ 5],\n",
      "       [ 8],\n",
      "       [11],\n",
      "       [14],\n",
      "       [17]]), array([[ 3],\n",
      "       [ 6],\n",
      "       [ 9],\n",
      "       [12],\n",
      "       [15],\n",
      "       [18]])]\n"
     ]
    }
   ],
   "source": [
    "#horizontal-row split\n",
    "import numpy as np\n",
    "arr1 = np.array([[1, 2, 3], [4, 5, 6], [7, 8, 9], [10, 11, 12], [13, 14, 15], [16, 17, 18]])\n",
    "newarr = np.hsplit(arr1, 3)\n",
    "print(newarr)"
   ]
  },
  {
   "cell_type": "code",
   "execution_count": 10,
   "id": "fd340118",
   "metadata": {},
   "outputs": [
    {
     "name": "stdout",
     "output_type": "stream",
     "text": [
      "[array([[1, 2, 3],\n",
      "       [4, 5, 6]]), array([[ 7,  8,  9],\n",
      "       [10, 11, 12]]), array([[13, 14, 15],\n",
      "       [16, 17, 18]])]\n"
     ]
    }
   ],
   "source": [
    "#vertical-column split\n",
    "import numpy as np\n",
    "arr1 = np.array([[1, 2, 3], [4, 5, 6], [7, 8, 9], [10, 11, 12], [13, 14, 15], [16, 17, 18]])\n",
    "newarr = np.vsplit(arr1, 3)\n",
    "print(newarr)"
   ]
  },
  {
   "cell_type": "code",
   "execution_count": 3,
   "id": "9a42af7b",
   "metadata": {},
   "outputs": [
    {
     "name": "stdout",
     "output_type": "stream",
     "text": [
      "(array([3, 7], dtype=int64),)\n"
     ]
    }
   ],
   "source": [
    "import numpy as np\n",
    "arr1=np.array([1,2,3,4,5,6,6,4,7,6])\n",
    "x=np.where(arr1==4)\n",
    "print(x)"
   ]
  },
  {
   "cell_type": "code",
   "execution_count": 5,
   "id": "6db4f7fc",
   "metadata": {},
   "outputs": [
    {
     "name": "stdout",
     "output_type": "stream",
     "text": [
      "(array([1, 3, 5, 6, 7, 9], dtype=int64),)\n"
     ]
    }
   ],
   "source": [
    "import numpy as np\n",
    "arr1=np.array([1,2,3,4,5,6,6,4,7,6])\n",
    "x=np.where(arr1%2==0)\n",
    "print(x)"
   ]
  },
  {
   "cell_type": "code",
   "execution_count": 7,
   "id": "0142c744",
   "metadata": {},
   "outputs": [
    {
     "name": "stdout",
     "output_type": "stream",
     "text": [
      "5\n"
     ]
    }
   ],
   "source": [
    "import numpy as np\n",
    "arr1=np.array([1,2,3,4,5,6,6,4,7,6])\n",
    "x=np.searchsorted(arr1,6)\n",
    "print(x)"
   ]
  },
  {
   "cell_type": "code",
   "execution_count": 9,
   "id": "6114241a",
   "metadata": {},
   "outputs": [
    {
     "name": "stdout",
     "output_type": "stream",
     "text": [
      "(array([0, 2, 4, 8], dtype=int64),)\n"
     ]
    }
   ],
   "source": [
    "import numpy as np\n",
    "arr1=np.array([1,2,3,4,5,6,6,4,7,6])\n",
    "x=np.where(arr1%2==1)\n",
    "print(x)"
   ]
  },
  {
   "cell_type": "code",
   "execution_count": 11,
   "id": "61b3644a",
   "metadata": {},
   "outputs": [
    {
     "name": "stdout",
     "output_type": "stream",
     "text": [
      "10\n"
     ]
    }
   ],
   "source": [
    "import numpy as np\n",
    "arr1=np.array([1,2,3,4,5,6,6,4,7,6])\n",
    "x=np.searchsorted(arr1,7,side='right')\n",
    "print(x)"
   ]
  },
  {
   "cell_type": "code",
   "execution_count": 14,
   "id": "6325cde7",
   "metadata": {},
   "outputs": [
    {
     "name": "stdout",
     "output_type": "stream",
     "text": [
      "[1 3 5]\n"
     ]
    }
   ],
   "source": [
    "import numpy as np\n",
    "arr1=np.array([1,2,3,4,5,6,6,4,7,6])\n",
    "x=np.searchsorted(arr1,[2, 4, 6])\n",
    "print(x)"
   ]
  },
  {
   "cell_type": "code",
   "execution_count": 17,
   "id": "d02bdb9b",
   "metadata": {},
   "outputs": [
    {
     "name": "stdout",
     "output_type": "stream",
     "text": [
      "[1 2 3 4 5]\n"
     ]
    }
   ],
   "source": [
    "#create a 1d numpy array containing the numbers from 1-5.\n",
    "#create 2d numpy numpy array with dimensions 3*3 filled with zeros.\n",
    "#arr=np.array([1,2,3,4,5,]),how would you access the third element?\n",
    "#add two numpy arrays element-wise..\n",
    "#find the mean and standard deviation of numpy array \n",
    "#generate arandom 1d numpy array of 10 integer btwn 1-100\n",
    "import numpy as np\n",
    "arr1D= np.array([1, 2, 3, 4, 5])\n",
    "print(arr1D)\n"
   ]
  },
  {
   "cell_type": "code",
   "execution_count": 19,
   "id": "316ef2a5",
   "metadata": {},
   "outputs": [
    {
     "name": "stdout",
     "output_type": "stream",
     "text": [
      "[[1 0 2]\n",
      " [1 0 0]\n",
      " [2 0 9]]\n"
     ]
    }
   ],
   "source": [
    "import numpy as np\n",
    "arr2D= np.array([[1,0,2],[1,0,0],[2,0,9]])\n",
    "print(arr2D)\n"
   ]
  },
  {
   "cell_type": "code",
   "execution_count": 22,
   "id": "fd9516d3",
   "metadata": {},
   "outputs": [
    {
     "name": "stdout",
     "output_type": "stream",
     "text": [
      "3\n"
     ]
    }
   ],
   "source": [
    "third_element = arr1D[2]\n",
    "print(third_element)\n"
   ]
  },
  {
   "cell_type": "code",
   "execution_count": 26,
   "id": "c04996ab",
   "metadata": {},
   "outputs": [
    {
     "name": "stdout",
     "output_type": "stream",
     "text": [
      "[ 6  5  6 10  9]\n"
     ]
    }
   ],
   "source": [
    "arr1 = np.array([1, 1, 3, 4, 5])\n",
    "arr2 = np.array([5, 4, 3, 6,4 ])\n",
    "result = arr1 + arr2\n",
    "print(result)\n"
   ]
  },
  {
   "cell_type": "code",
   "execution_count": 29,
   "id": "b7d441c2",
   "metadata": {},
   "outputs": [
    {
     "name": "stdout",
     "output_type": "stream",
     "text": [
      "2.8\n",
      "1.6\n"
     ]
    }
   ],
   "source": [
    "mean_value = np.mean(arr1)\n",
    "print(mean_value)\n",
    "std_deviation = np.std(arr1)\n",
    "print(std_deviation)\n"
   ]
  },
  {
   "cell_type": "code",
   "execution_count": 30,
   "id": "c2cf32f4",
   "metadata": {},
   "outputs": [
    {
     "name": "stdout",
     "output_type": "stream",
     "text": [
      "[  1  12  23  34  45  56  67  78  89 100]\n"
     ]
    }
   ],
   "source": [
    "x=np.linspace(1,100,10,dtype='i')\n",
    "print(x)"
   ]
  },
  {
   "cell_type": "code",
   "execution_count": 9,
   "id": "84fce889",
   "metadata": {},
   "outputs": [
    {
     "name": "stdout",
     "output_type": "stream",
     "text": [
      "(1, 3, 2)\n",
      "int32\n"
     ]
    }
   ],
   "source": [
    "a4=np.array([[[1,2],[2,3],[3,5]]])\n",
    "print(a4.shape)\n",
    "print(a4.dtype)"
   ]
  },
  {
   "cell_type": "code",
   "execution_count": 14,
   "id": "872153d2",
   "metadata": {},
   "outputs": [
    {
     "name": "stdout",
     "output_type": "stream",
     "text": [
      "(8,)\n",
      "[[1 2 3 4]\n",
      " [5 6 7 8]]\n",
      "[[1 2]\n",
      " [3 4]\n",
      " [5 6]\n",
      " [7 8]]\n",
      "[[1]\n",
      " [2]\n",
      " [3]\n",
      " [4]\n",
      " [5]\n",
      " [6]\n",
      " [7]\n",
      " [8]]\n",
      "[[1 2 3 4 5 6 7 8]]\n"
     ]
    }
   ],
   "source": [
    "arr=np.array([1,2,3,4,5,6,7,8])\n",
    "print(arr.shape)\n",
    "print(arr.reshape(2,4))\n",
    "print(arr.reshape(4,2))\n",
    "print(arr.reshape(8,1))\n",
    "print(arr.reshape(1,8))"
   ]
  },
  {
   "cell_type": "code",
   "execution_count": 16,
   "id": "b5f74601",
   "metadata": {},
   "outputs": [
    {
     "name": "stdout",
     "output_type": "stream",
     "text": [
      "[[[[[[1 2 3 4 5 6]]]]]]\n"
     ]
    }
   ],
   "source": [
    "arr1=np.array([1,2,3,4,5,6],ndmin=6)\n",
    "print(arr1)"
   ]
  },
  {
   "cell_type": "code",
   "execution_count": 21,
   "id": "a474e7c4",
   "metadata": {},
   "outputs": [
    {
     "name": "stdout",
     "output_type": "stream",
     "text": [
      "[1 2 3 4 5 6 7 8]\n",
      "[1 2 3 4 5 6 7 8]\n",
      "[ 1  2  3 30  5  6  7  8]\n",
      "[ 1  2 12 30  5  6  7  8]\n"
     ]
    }
   ],
   "source": [
    "arr=np.array([1,2,3,4,5,6,7,8])\n",
    "arr5=arr.copy()\n",
    "print(arr5)\n",
    "arr6=arr5.view()\n",
    "print(arr6)\n",
    "arr5[3]=30\n",
    "print(arr5)\n",
    "arr6[2]=12\n",
    "print(arr6)"
   ]
  },
  {
   "cell_type": "code",
   "execution_count": 27,
   "id": "96202292",
   "metadata": {},
   "outputs": [
    {
     "name": "stdout",
     "output_type": "stream",
     "text": [
      "2\n",
      "data type is int32\n",
      "12\n",
      "data type is int32\n",
      "16\n",
      "data type is int32\n",
      "23\n",
      "data type is int32\n",
      "27\n",
      "data type is int32\n",
      "34\n",
      "data type is int32\n",
      "39\n",
      "data type is int32\n",
      "40\n",
      "data type is int32\n"
     ]
    }
   ],
   "source": [
    "#for loop- initialisation,text expression/condition, updation\n",
    "arr=np.array([2,12,16,23,27,34,39,40])\n",
    "for x in arr:\n",
    "    print(x)\n",
    "    print(\"data type is\",x.dtype)"
   ]
  },
  {
   "cell_type": "code",
   "execution_count": 28,
   "id": "24cb49ae",
   "metadata": {},
   "outputs": [
    {
     "name": "stdout",
     "output_type": "stream",
     "text": [
      "2\n",
      "data type is int32\n",
      "12\n",
      "data type is int32\n",
      "16\n",
      "data type is int32\n",
      "23\n",
      "data type is int32\n",
      "27\n",
      "data type is int32\n",
      "34\n",
      "data type is int32\n",
      "39\n",
      "data type is int32\n",
      "40\n",
      "data type is int32\n"
     ]
    }
   ],
   "source": [
    "arr=np.array([2,12,16,23,27,34,39,40])\n",
    "for x in np.nditer(arr):\n",
    "    print(x)\n",
    "    print(\"data type is\",x.dtype)"
   ]
  },
  {
   "cell_type": "code",
   "execution_count": 29,
   "id": "5809c920",
   "metadata": {},
   "outputs": [
    {
     "name": "stdout",
     "output_type": "stream",
     "text": [
      "2\n",
      "12\n",
      "16\n",
      "23\n",
      "27\n",
      "34\n",
      "39\n",
      "40\n"
     ]
    }
   ],
   "source": [
    "arr=np.array([2,12,16,23,27,34,39,40])\n",
    "for x in np.nditer(arr):\n",
    "    print(x)"
   ]
  },
  {
   "cell_type": "code",
   "execution_count": 13,
   "id": "79b4dbcd",
   "metadata": {},
   "outputs": [
    {
     "name": "stdout",
     "output_type": "stream",
     "text": [
      "4\n",
      "5\n",
      "6\n",
      "7\n",
      "8\n"
     ]
    }
   ],
   "source": [
    "import numpy as np\n",
    "arr = np.array([[1, 2],[3,4],[5,6],[7,8]])\n",
    "for x in np.nditer(arr):\n",
    "    if x in[4,5,6,7,8]:\n",
    "          print(x)"
   ]
  },
  {
   "cell_type": "code",
   "execution_count": 16,
   "id": "037790db",
   "metadata": {},
   "outputs": [
    {
     "name": "stdout",
     "output_type": "stream",
     "text": [
      "1\n",
      "2\n",
      "3\n",
      "4\n",
      "5\n",
      "6\n",
      "7\n",
      "8\n"
     ]
    }
   ],
   "source": [
    "import numpy as np\n",
    "arr = np.array([[1, 2],[3,4],[5,6],[7,8]])\n",
    "for x in np.nditer(arr[::-1,::-1]):\n",
    "    print(x)"
   ]
  },
  {
   "cell_type": "code",
   "execution_count": 17,
   "id": "2d26ae35",
   "metadata": {},
   "outputs": [
    {
     "name": "stdout",
     "output_type": "stream",
     "text": [
      "[  1.          15.14285714  29.28571429  43.42857143  57.57142857\n",
      "  71.71428571  85.85714286 100.        ]\n"
     ]
    }
   ],
   "source": [
    "print(np.linspace(1,100,8))"
   ]
  },
  {
   "cell_type": "code",
   "execution_count": 2,
   "id": "8d2fa4a6",
   "metadata": {},
   "outputs": [
    {
     "name": "stdout",
     "output_type": "stream",
     "text": [
      "[[1 2 3 4]\n",
      " [4 5 6 8]]\n"
     ]
    }
   ],
   "source": [
    "import numpy as np\n",
    "a1=np.array([(1,2,3,4),(4,5,6,8)])\n",
    "print(a1)"
   ]
  },
  {
   "cell_type": "code",
   "execution_count": 6,
   "id": "accd8dca",
   "metadata": {},
   "outputs": [
    {
     "name": "stdout",
     "output_type": "stream",
     "text": [
      "5600\n",
      "1200\n"
     ]
    }
   ],
   "source": [
    "import time\n",
    "import sys\n",
    "a1=range(200)\n",
    "print(sys.getsizeof(5)*len(a1))\n",
    "b1= np.arange(300)\n",
    "print(b1.size*b1.itemsize)"
   ]
  },
  {
   "cell_type": "code",
   "execution_count": 7,
   "id": "ef6c5916",
   "metadata": {},
   "outputs": [
    {
     "name": "stdout",
     "output_type": "stream",
     "text": [
      "3.517627716064453\n",
      "0.0\n"
     ]
    }
   ],
   "source": [
    "import numpy as np\n",
    "import time\n",
    "import sys\n",
    "size=3000\n",
    "r1=range(size)\n",
    "r2=range(size)\n",
    "a1=np.arange(size)\n",
    "a2=np.arange(size)\n",
    "start=time.time()\n",
    "result=[(x,y) for x,y in zip(r1,r2)]\n",
    "print((time.time()-start)*1000)\n",
    "start=time.time()\n",
    "result=a1+a2\n",
    "print((time.time()-start)*1000)"
   ]
  },
  {
   "cell_type": "code",
   "execution_count": 8,
   "id": "b8b52d1b",
   "metadata": {},
   "outputs": [
    {
     "name": "stdout",
     "output_type": "stream",
     "text": [
      "int32\n"
     ]
    }
   ],
   "source": [
    "a=np.array([1,2,3,4,5,6])\n",
    "print(a.dtype)"
   ]
  },
  {
   "cell_type": "code",
   "execution_count": 14,
   "id": "74afb715",
   "metadata": {},
   "outputs": [
    {
     "name": "stdout",
     "output_type": "stream",
     "text": [
      "[[1 2]\n",
      " [3 4]\n",
      " [5 6]\n",
      " [7 8]]\n"
     ]
    }
   ],
   "source": [
    "a=np.array([[1,2,3,4],[5,6,7,8]])\n",
    "a=a.reshape(4,2)\n",
    "print(a)"
   ]
  },
  {
   "cell_type": "code",
   "execution_count": 15,
   "id": "1cc6918b",
   "metadata": {},
   "outputs": [
    {
     "name": "stdout",
     "output_type": "stream",
     "text": [
      "[4 8]\n"
     ]
    }
   ],
   "source": [
    "a=np.array([[1,2,3,4],[5,6,7,8]])\n",
    "print(a[0:,3])"
   ]
  },
  {
   "cell_type": "code",
   "execution_count": 16,
   "id": "763e7647",
   "metadata": {},
   "outputs": [
    {
     "name": "stdout",
     "output_type": "stream",
     "text": [
      "[ 1.          9.77777778 18.55555556 27.33333333 36.11111111 44.88888889\n",
      " 53.66666667 62.44444444 71.22222222 80.        ]\n"
     ]
    }
   ],
   "source": [
    "a=np.linspace(1,80,10)\n",
    "print(a)"
   ]
  },
  {
   "cell_type": "code",
   "execution_count": 17,
   "id": "92cc172f",
   "metadata": {},
   "outputs": [
    {
     "name": "stdout",
     "output_type": "stream",
     "text": [
      "6\n"
     ]
    }
   ],
   "source": [
    "a = np.array([1,2,3,4,5,6])\n",
    "print(a.max())"
   ]
  },
  {
   "cell_type": "code",
   "execution_count": 18,
   "id": "5f6b8675",
   "metadata": {},
   "outputs": [
    {
     "name": "stdout",
     "output_type": "stream",
     "text": [
      "[ 4  6  8 10]\n"
     ]
    }
   ],
   "source": [
    "a=np.array([(1,2,3,4),(3,4,5,6)])\n",
    "print(a.sum(axis=0))"
   ]
  },
  {
   "cell_type": "code",
   "execution_count": 19,
   "id": "69a06407",
   "metadata": {},
   "outputs": [
    {
     "name": "stdout",
     "output_type": "stream",
     "text": [
      "[10 18]\n"
     ]
    }
   ],
   "source": [
    "a=np.array([(1,2,3,4),(3,4,5,6)])\n",
    "print(a.sum(axis=1))"
   ]
  },
  {
   "cell_type": "code",
   "execution_count": 22,
   "id": "b3c9ab1f",
   "metadata": {},
   "outputs": [
    {
     "name": "stdout",
     "output_type": "stream",
     "text": [
      "[[0 1 2 3 4]\n",
      " [5 6 7 8 9]]\n"
     ]
    }
   ],
   "source": [
    "a=np.arange(10).reshape(2,5)\n",
    "print(a)"
   ]
  },
  {
   "cell_type": "code",
   "execution_count": 23,
   "id": "1c617058",
   "metadata": {},
   "outputs": [
    {
     "name": "stdout",
     "output_type": "stream",
     "text": [
      "[[1.         1.41421356 1.73205081 2.        ]\n",
      " [1.73205081 2.         2.23606798 2.44948974]]\n"
     ]
    }
   ],
   "source": [
    "a=np.array([(1,2,3,4),(3,4,5,6)])\n",
    "print(np.sqrt(a))"
   ]
  },
  {
   "cell_type": "code",
   "execution_count": 26,
   "id": "35004a89",
   "metadata": {},
   "outputs": [
    {
     "name": "stdout",
     "output_type": "stream",
     "text": [
      "[[[1.         1.41421356 1.73205081]\n",
      "  [1.73205081 2.         2.23606798]\n",
      "  [2.44948974 2.64575131 2.82842712]]]\n"
     ]
    }
   ],
   "source": [
    "a=np.array([[(1,2,3),(3,4,5),(6,7,8)]])\n",
    "print(np.sqrt(a))"
   ]
  },
  {
   "cell_type": "code",
   "execution_count": 27,
   "id": "8b8d03ca",
   "metadata": {},
   "outputs": [
    {
     "name": "stdout",
     "output_type": "stream",
     "text": [
      "[[[[1.         1.41421356 1.73205081]\n",
      "   [1.73205081 2.         2.23606798]\n",
      "   [2.44948974 2.64575131 2.82842712]]]]\n"
     ]
    }
   ],
   "source": [
    "a=np.array([[[(1,2,3),(3,4,5),(6,7,8)]]])\n",
    "print(np.sqrt(a))"
   ]
  },
  {
   "cell_type": "code",
   "execution_count": 28,
   "id": "0f323aea",
   "metadata": {},
   "outputs": [
    {
     "name": "stdout",
     "output_type": "stream",
     "text": [
      "2.211083193570267\n"
     ]
    }
   ],
   "source": [
    "a=np.array([[(1,2,3),(3,4,5),(6,7,8)]])\n",
    "print(np.std(a))"
   ]
  },
  {
   "cell_type": "code",
   "execution_count": 31,
   "id": "6a78ef7c",
   "metadata": {},
   "outputs": [
    {
     "name": "stdout",
     "output_type": "stream",
     "text": [
      "[[ 7  9 11 13]\n",
      " [ 6  8 10 15]]\n"
     ]
    }
   ],
   "source": [
    "a=np.array([(1,2,3,4),(3,4,5,6)])\n",
    "b=np.array([(6,7,8,9),(3,4,5,9)])\n",
    "print(a+b)"
   ]
  },
  {
   "cell_type": "code",
   "execution_count": 32,
   "id": "704f3495",
   "metadata": {},
   "outputs": [
    {
     "name": "stdout",
     "output_type": "stream",
     "text": [
      "[[1 2 3 4]\n",
      " [3 4 5 6]\n",
      " [6 7 8 9]\n",
      " [3 4 5 9]]\n"
     ]
    }
   ],
   "source": [
    "a=np.array([(1,2,3,4),(3,4,5,6)])\n",
    "b=np.array([(6,7,8,9),(3,4,5,9)])\n",
    "print(np.vstack((a,b)))\n"
   ]
  },
  {
   "cell_type": "code",
   "execution_count": 33,
   "id": "e1c26d83",
   "metadata": {},
   "outputs": [
    {
     "name": "stdout",
     "output_type": "stream",
     "text": [
      "[[1 2 3 4 6 7 8 9]\n",
      " [3 4 5 6 3 4 5 9]]\n"
     ]
    }
   ],
   "source": [
    "a=np.array([(1,2,3,4),(3,4,5,6)])\n",
    "b=np.array([(6,7,8,9),(3,4,5,9)])\n",
    "print(np.hstack((a,b)))"
   ]
  },
  {
   "cell_type": "code",
   "execution_count": 34,
   "id": "d29c734c",
   "metadata": {},
   "outputs": [
    {
     "name": "stdout",
     "output_type": "stream",
     "text": [
      "[6 7 8 9 3 4 5 9]\n"
     ]
    }
   ],
   "source": [
    "b=np.array([(6,7,8,9),(3,4,5,9)])\n",
    "print(b.ravel())"
   ]
  }
 ],
 "metadata": {
  "kernelspec": {
   "display_name": "Python 3 (ipykernel)",
   "language": "python",
   "name": "python3"
  },
  "language_info": {
   "codemirror_mode": {
    "name": "ipython",
    "version": 3
   },
   "file_extension": ".py",
   "mimetype": "text/x-python",
   "name": "python",
   "nbconvert_exporter": "python",
   "pygments_lexer": "ipython3",
   "version": "3.11.4"
  }
 },
 "nbformat": 4,
 "nbformat_minor": 5
}
